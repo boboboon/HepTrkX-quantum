{
 "cells": [
  {
   "cell_type": "code",
   "execution_count": 1,
   "metadata": {},
   "outputs": [],
   "source": [
    "import numpy as np\n",
    "import pandas as pd"
   ]
  },
  {
   "cell_type": "code",
   "execution_count": 7,
   "metadata": {},
   "outputs": [],
   "source": [
    "data_g000=np.load('/Users/lucascurtin/Desktop/QGNN Repos/HepTrkX-quantum/test_output/event000001016_g000.npz')"
   ]
  },
  {
   "cell_type": "code",
   "execution_count": 8,
   "metadata": {},
   "outputs": [
    {
     "name": "stdout",
     "output_type": "stream",
     "text": [
      "X\n",
      "[[ 0.03206385 -0.3723127  -0.482952  ]\n",
      " [ 0.0326642  -0.6827858  -0.451418  ]\n",
      " [ 0.03229556 -0.52464294 -0.441377  ]\n",
      " ...\n",
      " [ 1.024662    0.3646726  -0.0162    ]\n",
      " [ 1.0194191   0.38497132 -0.0162    ]\n",
      " [ 1.0212373   0.627219   -0.0486    ]]\n",
      "y\n",
      "[0. 0. 0. ... 0. 0. 0.]\n",
      "Ri_rows\n",
      "[ 574  574  574 ... 3280 3280 3280]\n",
      "Ri_cols\n",
      "[    3     7    31 ... 30850 30851 30855]\n",
      "Ro_rows\n",
      "[   9   10   13 ... 3156 3156 3156]\n",
      "Ro_cols\n",
      "[    0     1     2 ... 30853 30854 30855]\n"
     ]
    }
   ],
   "source": [
    "lst=data_g000.files\n",
    "for item in lst:\n",
    "    print(item)\n",
    "    print(data_g000[item])"
   ]
  },
  {
   "cell_type": "code",
   "execution_count": 11,
   "metadata": {},
   "outputs": [],
   "source": [
    "data_g000_original= np.load('/Users/lucascurtin/Desktop/QGNN Repos/HepTrkX-quantum/data/example_event/graph-no-cut/event000001016_g000.npz')"
   ]
  },
  {
   "cell_type": "code",
   "execution_count": 12,
   "metadata": {},
   "outputs": [
    {
     "name": "stdout",
     "output_type": "stream",
     "text": [
      "X\n",
      "[[ 0.03280041 -0.7299177  -0.209357  ]\n",
      " [ 0.07232435 -0.7681164  -0.466794  ]\n",
      " [ 0.03144391  0.89982915 -0.25302202]\n",
      " ...\n",
      " [ 0.03193842 -0.183536   -0.309327  ]\n",
      " [ 0.35985827  0.9162174  -0.48367998]\n",
      " [ 0.49690026  0.27459607 -0.7108    ]]\n",
      "y\n",
      "[1. 0. 0. ... 0. 0. 0.]\n",
      "Ri_rows\n",
      "[   1    1    1 ... 2644 2644 2644]\n",
      "Ri_cols\n",
      "[    0   530  1359 ... 17152 17269 17316]\n",
      "Ro_rows\n",
      "[   0    0    0 ... 2643 2644 2644]\n",
      "Ro_cols\n",
      "[    0     1     2 ... 17837 18837 18838]\n"
     ]
    }
   ],
   "source": [
    "lst=data_g000_original.files\n",
    "for item in lst:\n",
    "    print(item)\n",
    "    print(data_g000_original[item])"
   ]
  },
  {
   "cell_type": "code",
   "execution_count": null,
   "metadata": {},
   "outputs": [],
   "source": []
  }
 ],
 "metadata": {
  "kernelspec": {
   "display_name": "Python 3.8.8 ('base')",
   "language": "python",
   "name": "python3"
  },
  "language_info": {
   "codemirror_mode": {
    "name": "ipython",
    "version": 3
   },
   "file_extension": ".py",
   "mimetype": "text/x-python",
   "name": "python",
   "nbconvert_exporter": "python",
   "pygments_lexer": "ipython3",
   "version": "3.8.8"
  },
  "orig_nbformat": 4,
  "vscode": {
   "interpreter": {
    "hash": "a2f829a7556e90d260c87ed8e8a01eb70a9afb81f02fd9a0226c34d77f94da06"
   }
  }
 },
 "nbformat": 4,
 "nbformat_minor": 2
}
